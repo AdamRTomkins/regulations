{
 "cells": [
  {
   "cell_type": "code",
   "execution_count": 2,
   "metadata": {},
   "outputs": [
    {
     "name": "stdout",
     "output_type": "stream",
     "text": [
      "Python: 3.9.12 (main, Jun  1 2022, 11:38:51) \n",
      "[GCC 7.5.0]\n",
      "NLTK: 3.7\n",
      "Scikit-learn: 1.1.1\n",
      "Pandas: 1.4.3\n",
      "Numpy: 1.22.4\n"
     ]
    },
    {
     "name": "stderr",
     "output_type": "stream",
     "text": [
      "[nltk_data] Downloading package stopwords to /home/adam/nltk_data...\n",
      "[nltk_data]   Package stopwords is already up-to-date!\n",
      "[nltk_data] Downloading package punkt to /home/adam/nltk_data...\n",
      "[nltk_data]   Package punkt is already up-to-date!\n"
     ]
    }
   ],
   "source": [
    "import sys\n",
    "import nltk\n",
    "import sklearn\n",
    "import pandas as pd\n",
    "import numpy as np\n",
    "\n",
    "nltk.download('stopwords')\n",
    "nltk.download('punkt')\n",
    "\n",
    "print('Python: {}'.format(sys.version))\n",
    "print('NLTK: {}'.format(nltk.__version__))\n",
    "print('Scikit-learn: {}'.format(sklearn.__version__))\n",
    "print('Pandas: {}'.format(pd.__version__))\n",
    "print('Numpy: {}'.format(np.__version__))"
   ]
  },
  {
   "cell_type": "code",
   "execution_count": 4,
   "metadata": {},
   "outputs": [],
   "source": [
    "df = pd.read_table('rnr-examples.csv', sep=\",\", header=0, encoding='utf-8')"
   ]
  },
  {
   "cell_type": "code",
   "execution_count": 18,
   "metadata": {},
   "outputs": [],
   "source": [
    "text = df[df[\"label\"]==1][\"text\"].to_list()[-3]\n",
    "import re\n",
    "\n",
    "pattern =  '[A-Z ]+'\n",
    "\n",
    "documents = [[w.strip() for w in re.findall(pattern, text) if len(w) >3] for text in df[\"text\"].to_list()]\n",
    "all_words = sum(documents,[])\n"
   ]
  },
  {
   "cell_type": "code",
   "execution_count": 19,
   "metadata": {},
   "outputs": [],
   "source": [
    "count = nltk.FreqDist(all_words)"
   ]
  },
  {
   "cell_type": "code",
   "execution_count": 20,
   "metadata": {},
   "outputs": [
    {
     "data": {
      "text/plain": [
       "['PART',\n",
       " 'RT I',\n",
       " 'AML',\n",
       " 'SFC',\n",
       " 'CHAPTER',\n",
       " 'ASIC',\n",
       " 'FATF',\n",
       " 'III',\n",
       " 'SECTION',\n",
       " 'MAS',\n",
       " 'CFT',\n",
       " 'PART I',\n",
       " 'APRA',\n",
       " 'EU',\n",
       " 'EBA',\n",
       " 'PRA',\n",
       " 'OJ L',\n",
       " 'SCHEDULE',\n",
       " 'ARTICLE',\n",
       " 'PRELIMINARY',\n",
       " 'ECB',\n",
       " 'II',\n",
       " 'COVID',\n",
       " 'PART II',\n",
       " 'QFC',\n",
       " 'REGULATIONS',\n",
       " 'ARRANGEMENT OF SECTIONS',\n",
       " 'ACT',\n",
       " 'UK',\n",
       " 'SEBI',\n",
       " 'INTRODUCTION',\n",
       " 'ESMA',\n",
       " 'IOSCO',\n",
       " 'OF',\n",
       " 'FR',\n",
       " 'MAS N',\n",
       " 'FIU',\n",
       " 'AMENDMENT',\n",
       " 'GDP',\n",
       " 'FAQ',\n",
       " 'FCA',\n",
       " 'PART III',\n",
       " 'DFSA',\n",
       " 'IFRS',\n",
       " 'EUR',\n",
       " 'PART IV',\n",
       " 'FSB',\n",
       " 'WHEREAS',\n",
       " 'CONTENTS',\n",
       " 'SEC',\n",
       " 'CBN',\n",
       " 'CFR',\n",
       " 'IT',\n",
       " 'TABLE OF CONTENTS',\n",
       " 'CBB',\n",
       " 'SFO',\n",
       " 'USD',\n",
       " 'EEA',\n",
       " 'OTC',\n",
       " 'PART V',\n",
       " 'ETF',\n",
       " 'SME',\n",
       " 'ICO',\n",
       " 'LLC',\n",
       " 'IV',\n",
       " 'GENERAL',\n",
       " 'OJ C',\n",
       " 'DIFC',\n",
       " 'ENACTED',\n",
       " 'SFA',\n",
       " 'CIS',\n",
       " 'UCITS',\n",
       " 'CCP',\n",
       " 'DPRK',\n",
       " 'AN ACT',\n",
       " 'MINISTRY OF THE ATTORNEY GENERAL AND LEGAL AFFAIRS',\n",
       " 'MFDA',\n",
       " 'CRR',\n",
       " 'TITLE',\n",
       " 'HKMA',\n",
       " 'BILL',\n",
       " 'GENERAL PROVISIONS',\n",
       " 'CSA',\n",
       " 'PART VI',\n",
       " 'VII',\n",
       " 'US',\n",
       " 'LAWS OF TRINIDAD AND TOBAGO',\n",
       " 'CDD',\n",
       " 'CMA',\n",
       " 'PUBL',\n",
       " 'CSSF',\n",
       " 'UNOFFICIAL VERSION',\n",
       " 'VIII',\n",
       " 'TARGET',\n",
       " 'AUTHORITY',\n",
       " 'BSA',\n",
       " 'CEO',\n",
       " 'UPDATED TO',\n",
       " 'ST DECEMBER',\n",
       " 'DNFBP']"
      ]
     },
     "execution_count": 20,
     "metadata": {},
     "output_type": "execute_result"
    }
   ],
   "source": [
    "list(count)[0:100]"
   ]
  }
 ],
 "metadata": {
  "kernelspec": {
   "display_name": "reg",
   "language": "python",
   "name": "reg"
  },
  "language_info": {
   "codemirror_mode": {
    "name": "ipython",
    "version": 3
   },
   "file_extension": ".py",
   "mimetype": "text/x-python",
   "name": "python",
   "nbconvert_exporter": "python",
   "pygments_lexer": "ipython3",
   "version": "3.9.12"
  }
 },
 "nbformat": 4,
 "nbformat_minor": 4
}
