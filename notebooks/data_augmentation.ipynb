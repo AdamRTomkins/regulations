{
 "cells": [
  {
   "cell_type": "code",
   "execution_count": 5,
   "id": "5b47fefa-7dcf-46a2-a66c-80e58778643d",
   "metadata": {},
   "outputs": [],
   "source": [
    "import pandas as pd"
   ]
  },
  {
   "cell_type": "markdown",
   "id": "4264ace1-d33a-45fd-b6db-9a3f93a24c67",
   "metadata": {},
   "source": [
    "# Balancing the Classes\n",
    "\n",
    "Here we do a quick approach to balancing the classes, by augmenting the dataset with non-regulation financial data.\n",
    "\n",
    "We bring in data from the [Financial Phrasebank](https://huggingface.co/datasets/financial_phrasebank) which brings about 5000 more negative classes.\n",
    "\n",
    "This has the effect of balancing the classes, however it has the drawback of introducing non-real data which make create other biases in the model.\n",
    "One key difference with the external dataset is the length of each passage, this will skew models that use sparse-vectors due to a much sparser representation\n",
    "of each document.\n",
    "\n",
    "We do some limited pre-processing to bias the new data away from \"Regulatory\" content, by filtering out any sentences with the substring \"regul\".\n",
    "While this should be done with care, to be able to do it perfectly would be to have already solved the problem of the challange.\n"
   ]
  },
  {
   "cell_type": "code",
   "execution_count": 110,
   "id": "94ca9eb7-bc01-4b63-a1ce-d1550d22f1aa",
   "metadata": {},
   "outputs": [],
   "source": [
    "# load in the phrasebank data\n",
    "with open('../data/all-data.csv') as f:\n",
    "    lines = f.readlines()\n",
    "\n",
    "# clean and screen each line.\n",
    "clean = []    \n",
    "for line in lines:\n",
    "    line = line.split(',')\n",
    "    line = line[1].replace('\"','')\n",
    "    if \"reg\" not in line:\n",
    "        clean.append({\"text\":line, \"label\":0, \"source\":\"phrasebank\"})"
   ]
  },
  {
   "cell_type": "code",
   "execution_count": 111,
   "id": "0f6888a1-df11-4d58-8dfd-f1930c2ca06d",
   "metadata": {},
   "outputs": [],
   "source": [
    "# Combine the synthetic dataset with the core dataset\n",
    "df = pd.read_table('../rnr-examples.csv', sep=\",\", header=0, encoding='utf-8')\n",
    "# add a source field so we can characterise how well these synthetic data integrate.\n",
    "df[\"source\"] = [\"core\" for _ in range(len(df))]\n",
    "\n",
    "# Combine and export\n",
    "extended = pd.concat([df,pd.DataFrame(clean)])\n",
    "extended.to_csv(\"../data/extended_data.csv\")\n"
   ]
  },
  {
   "cell_type": "code",
   "execution_count": 138,
   "id": "c7f7850b-88ac-4774-a002-657294151cb6",
   "metadata": {},
   "outputs": [
    {
     "data": {
      "image/png": "[encoded data removed]",
      "text/plain": [
       "<Figure size 432x288 with 1 Axes>"
      ]
     },
     "metadata": {
      "needs_background": "light"
     },
     "output_type": "display_data"
    }
   ],
   "source": [
    "from collections import Counter\n",
    "import matplotlib.pyplot as plt\n",
    "classes = Counter(extended[\"label\"].to_list())\n",
    "\n",
    "fig = plt.bar(classes.keys(),classes.values())\n",
    "plt.title(\"Class Imbalance\")\n",
    "plt.savefig('../data/images/class Imbalance.png', bbox_inches='tight')"
   ]
  },
  {
   "cell_type": "markdown",
   "id": "ce10dd94-ff9a-467b-8657-a365cf0fcdaa",
   "metadata": {},
   "source": [
    "# Extended Data Evaluation\n",
    "\n",
    "Here we investigate the effect of balancing the data sets.\n",
    "The Hypothsis here is that a balanced dataset will create a more robust classifier. \n",
    "\n",
    "We will investigate the effects over a single test-train split for simplicity. \n",
    "\n",
    "We will examine both the Confusion Matrix and the Accuracy"
   ]
  },
  {
   "cell_type": "code",
   "execution_count": 113,
   "id": "e9d2e89f-6be1-413d-8d84-e5dda208aed5",
   "metadata": {},
   "outputs": [],
   "source": [
    "# Create a basic model for dataset interrorgation\n",
    "from sklearn.pipeline import Pipeline\n",
    "from sklearn.feature_extraction.text import CountVectorizer\n",
    "from sklearn.feature_extraction.text import TfidfTransformer\n",
    "from sklearn.ensemble import RandomForestClassifier\n",
    "from sklearn.model_selection import train_test_split\n",
    "\n",
    "# Here we separate out a train-test split, and recreate the original train-test split on the core data alone.\n",
    "test, train = train_test_split(extended)\n",
    "unbalanced_train = train[train[\"source\"]==\"core\"]\n",
    "unbalanced_test = test[test[\"source\"]==\"core\"]"
   ]
  },
  {
   "cell_type": "code",
   "execution_count": 115,
   "id": "1ea05cbc-0375-4283-b308-6be4cd001596",
   "metadata": {},
   "outputs": [
    {
     "data": {
      "text/html": [
       "<style>#sk-container-id-4 {color: black;background-color: white;}#sk-container-id-4 pre{padding: 0;}#sk-container-id-4 div.sk-toggleable {background-color: white;}#sk-container-id-4 label.sk-toggleable__label {cursor: pointer;display: block;width: 100%;margin-bottom: 0;padding: 0.3em;box-sizing: border-box;text-align: center;}#sk-container-id-4 label.sk-toggleable__label-arrow:before {content: \"▸\";float: left;margin-right: 0.25em;color: #696969;}#sk-container-id-4 label.sk-toggleable__label-arrow:hover:before {color: black;}#sk-container-id-4 div.sk-estimator:hover label.sk-toggleable__label-arrow:before {color: black;}#sk-container-id-4 div.sk-toggleable__content {max-height: 0;max-width: 0;overflow: hidden;text-align: left;background-color: #f0f8ff;}#sk-container-id-4 div.sk-toggleable__content pre {margin: 0.2em;color: black;border-radius: 0.25em;background-color: #f0f8ff;}#sk-container-id-4 input.sk-toggleable__control:checked~div.sk-toggleable__content {max-height: 200px;max-width: 100%;overflow: auto;}#sk-container-id-4 input.sk-toggleable__control:checked~label.sk-toggleable__label-arrow:before {content: \"▾\";}#sk-container-id-4 div.sk-estimator input.sk-toggleable__control:checked~label.sk-toggleable__label {background-color: #d4ebff;}#sk-container-id-4 div.sk-label input.sk-toggleable__control:checked~label.sk-toggleable__label {background-color: #d4ebff;}#sk-container-id-4 input.sk-hidden--visually {border: 0;clip: rect(1px 1px 1px 1px);clip: rect(1px, 1px, 1px, 1px);height: 1px;margin: -1px;overflow: hidden;padding: 0;position: absolute;width: 1px;}#sk-container-id-4 div.sk-estimator {font-family: monospace;background-color: #f0f8ff;border: 1px dotted black;border-radius: 0.25em;box-sizing: border-box;margin-bottom: 0.5em;}#sk-container-id-4 div.sk-estimator:hover {background-color: #d4ebff;}#sk-container-id-4 div.sk-parallel-item::after {content: \"\";width: 100%;border-bottom: 1px solid gray;flex-grow: 1;}#sk-container-id-4 div.sk-label:hover label.sk-toggleable__label {background-color: #d4ebff;}#sk-container-id-4 div.sk-serial::before {content: \"\";position: absolute;border-left: 1px solid gray;box-sizing: border-box;top: 0;bottom: 0;left: 50%;z-index: 0;}#sk-container-id-4 div.sk-serial {display: flex;flex-direction: column;align-items: center;background-color: white;padding-right: 0.2em;padding-left: 0.2em;position: relative;}#sk-container-id-4 div.sk-item {position: relative;z-index: 1;}#sk-container-id-4 div.sk-parallel {display: flex;align-items: stretch;justify-content: center;background-color: white;position: relative;}#sk-container-id-4 div.sk-item::before, #sk-container-id-4 div.sk-parallel-item::before {content: \"\";position: absolute;border-left: 1px solid gray;box-sizing: border-box;top: 0;bottom: 0;left: 50%;z-index: -1;}#sk-container-id-4 div.sk-parallel-item {display: flex;flex-direction: column;z-index: 1;position: relative;background-color: white;}#sk-container-id-4 div.sk-parallel-item:first-child::after {align-self: flex-end;width: 50%;}#sk-container-id-4 div.sk-parallel-item:last-child::after {align-self: flex-start;width: 50%;}#sk-container-id-4 div.sk-parallel-item:only-child::after {width: 0;}#sk-container-id-4 div.sk-dashed-wrapped {border: 1px dashed gray;margin: 0 0.4em 0.5em 0.4em;box-sizing: border-box;padding-bottom: 0.4em;background-color: white;}#sk-container-id-4 div.sk-label label {font-family: monospace;font-weight: bold;display: inline-block;line-height: 1.2em;}#sk-container-id-4 div.sk-label-container {text-align: center;}#sk-container-id-4 div.sk-container {/* jupyter's `normalize.less` sets `[hidden] { display: none; }` but bootstrap.min.css set `[hidden] { display: none !important; }` so we also need the `!important` here to be able to override the default hidden behavior on the sphinx rendered scikit-learn.org. See: https://github.com/scikit-learn/scikit-learn/issues/21755 */display: inline-block !important;position: relative;}#sk-container-id-4 div.sk-text-repr-fallback {display: none;}</style><div id=\"sk-container-id-4\" class=\"sk-top-container\"><div class=\"sk-text-repr-fallback\"><pre>Pipeline(steps=[(&#x27;vect&#x27;, CountVectorizer()), (&#x27;tfidf&#x27;, TfidfTransformer()),\n",
       "                (&#x27;clf&#x27;, RandomForestClassifier())])</pre><b>In a Jupyter environment, please rerun this cell to show the HTML representation or trust the notebook. <br />On GitHub, the HTML representation is unable to render, please try loading this page with nbviewer.org.</b></div><div class=\"sk-container\" hidden><div class=\"sk-item sk-dashed-wrapped\"><div class=\"sk-label-container\"><div class=\"sk-label sk-toggleable\"><input class=\"sk-toggleable__control sk-hidden--visually\" id=\"sk-estimator-id-13\" type=\"checkbox\" ><label for=\"sk-estimator-id-13\" class=\"sk-toggleable__label sk-toggleable__label-arrow\">Pipeline</label><div class=\"sk-toggleable__content\"><pre>Pipeline(steps=[(&#x27;vect&#x27;, CountVectorizer()), (&#x27;tfidf&#x27;, TfidfTransformer()),\n",
       "                (&#x27;clf&#x27;, RandomForestClassifier())])</pre></div></div></div><div class=\"sk-serial\"><div class=\"sk-item\"><div class=\"sk-estimator sk-toggleable\"><input class=\"sk-toggleable__control sk-hidden--visually\" id=\"sk-estimator-id-14\" type=\"checkbox\" ><label for=\"sk-estimator-id-14\" class=\"sk-toggleable__label sk-toggleable__label-arrow\">CountVectorizer</label><div class=\"sk-toggleable__content\"><pre>CountVectorizer()</pre></div></div></div><div class=\"sk-item\"><div class=\"sk-estimator sk-toggleable\"><input class=\"sk-toggleable__control sk-hidden--visually\" id=\"sk-estimator-id-15\" type=\"checkbox\" ><label for=\"sk-estimator-id-15\" class=\"sk-toggleable__label sk-toggleable__label-arrow\">TfidfTransformer</label><div class=\"sk-toggleable__content\"><pre>TfidfTransformer()</pre></div></div></div><div class=\"sk-item\"><div class=\"sk-estimator sk-toggleable\"><input class=\"sk-toggleable__control sk-hidden--visually\" id=\"sk-estimator-id-16\" type=\"checkbox\" ><label for=\"sk-estimator-id-16\" class=\"sk-toggleable__label sk-toggleable__label-arrow\">RandomForestClassifier</label><div class=\"sk-toggleable__content\"><pre>RandomForestClassifier()</pre></div></div></div></div></div></div></div>"
      ],
      "text/plain": [
       "Pipeline(steps=[('vect', CountVectorizer()), ('tfidf', TfidfTransformer()),\n",
       "                ('clf', RandomForestClassifier())])"
      ]
     },
     "execution_count": 115,
     "metadata": {},
     "output_type": "execute_result"
    }
   ],
   "source": [
    "# Train an unbalanced model, replicating the original data set class imbalance\n",
    "clf_unbalanced = Pipeline([\n",
    "     ('vect', CountVectorizer()),\n",
    "     ('tfidf', TfidfTransformer()),\n",
    "     ('clf',  RandomForestClassifier()),\n",
    "])\n",
    "\n",
    "clf_unbalanced.fit(unbalanced_train[\"text\"], unbalanced_train[\"label\"])\n",
    "\n",
    "# Train an balanced model, drawing on the balanced classes\n",
    "clf_balanced = clf = Pipeline([\n",
    "     ('vect', CountVectorizer()),\n",
    "     ('tfidf', TfidfTransformer()),\n",
    "     ('clf',  RandomForestClassifier()),\n",
    "])\n",
    "\n",
    "clf_balanced.fit(train[\"text\"], train[\"label\"])"
   ]
  },
  {
   "cell_type": "code",
   "execution_count": 116,
   "id": "7bef5623-5112-482b-89a4-03c497d935d5",
   "metadata": {},
   "outputs": [],
   "source": [
    "# Evaluate the balanced and unbalanced models against the balanced and core-data\n",
    "y_pred_balanced = clf_balanced.predict(test[\"text\"])\n",
    "y_pred_unbalanced = clf_unbalanced.predict(test[\"text\"])\n",
    "y_pred_unbalanced_core = clf_unbalanced.predict(unbalanced_test[\"text\"])"
   ]
  },
  {
   "cell_type": "code",
   "execution_count": 127,
   "id": "0bc0a17b-7d53-4c6d-9119-a80907243448",
   "metadata": {},
   "outputs": [
    {
     "name": "stdout",
     "output_type": "stream",
     "text": [
      "Balanced Model on Balanced Data\n",
      "[[3695   53]\n",
      " [ 284 3308]]\n",
      "Accuracy: 0.9540871934604904\n",
      "Precision: 0.9842308836655758\n",
      "Recall: 0.920935412026726\n"
     ]
    }
   ],
   "source": [
    "from sklearn.metrics import confusion_matrix, accuracy_score, precision_score, recall_score\n",
    "print(\"Balanced Model on Balanced Data\")\n",
    "print(confusion_matrix(y_pred_balanced, test[\"label\"]))\n",
    "print(\"Accuracy:\", accuracy_score(y_pred_balanced, test[\"label\"]))\n",
    "print(\"Precision:\", precision_score(y_pred_balanced, test[\"label\"]))\n",
    "print(\"Recall:\", recall_score(y_pred_balanced, test[\"label\"]))"
   ]
  },
  {
   "cell_type": "code",
   "execution_count": 140,
   "id": "96341a4a-6cf2-4ee5-96e0-aa842b91ebb3",
   "metadata": {},
   "outputs": [],
   "source": [
    "from sklearn.metrics import confusion_matrix, accuracy_score, precision_score, recall_score\n",
    "def print_metrics(title, y_pred, y_true):\n",
    "    print(title)\n",
    "    print(confusion_matrix(y_pred, y_true))\n",
    "    print(\"Accuracy:\", accuracy_score(y_pred, y_true))\n",
    "    print(\"Precision:\", precision_score(y_pred, y_true))\n",
    "    print(\"Recall:\", recall_score(y_pred, y_true))"
   ]
  },
  {
   "cell_type": "code",
   "execution_count": 128,
   "id": "76204c89-4fdd-4718-8687-ae0d36d03ee9",
   "metadata": {},
   "outputs": [
    {
     "name": "stdout",
     "output_type": "stream",
     "text": [
      "Unbalanced Model on balanced Data\n",
      "[[  50    0]\n",
      " [3929 3361]]\n",
      "0.4647138964577657\n",
      "Accuracy: 0.4647138964577657\n",
      "Precision: 1.0\n",
      "Recall: 0.46104252400548695\n"
     ]
    }
   ],
   "source": [
    "print(\"Unbalanced Model on balanced Data\")\n",
    "print(confusion_matrix(y_pred_unbalanced, test[\"label\"]))\n",
    "print(accuracy_score(y_pred_unbalanced, test[\"label\"]))\n",
    "print(\"Accuracy:\", accuracy_score(y_pred_unbalanced, test[\"label\"]))\n",
    "print(\"Precision:\", precision_score(y_pred_unbalanced, test[\"label\"]))\n",
    "print(\"Recall:\", recall_score(y_pred_unbalanced, test[\"label\"]))"
   ]
  },
  {
   "cell_type": "code",
   "execution_count": 126,
   "id": "d9d37ad7-bee1-4f2b-ac06-b21b8976c048",
   "metadata": {},
   "outputs": [
    {
     "name": "stdout",
     "output_type": "stream",
     "text": [
      "Unbalanced Model on Unbalanced Data\n",
      "[[  50    0]\n",
      " [ 326 3361]]\n",
      "Accuracy: 0.9127642493979128\n",
      "Accuracy: 0.9127642493979128\n",
      "Precision: 1.0\n",
      "Recall: 0.9115812313534039\n"
     ]
    }
   ],
   "source": [
    "print(\"Unbalanced Model on Unbalanced Data\")\n",
    "print(confusion_matrix(y_pred_unbalanced_core, unbalanced_test[\"label\"]))\n",
    "print(\"Accuracy:\", accuracy_score(y_pred_unbalanced_core, unbalanced_test[\"label\"]))\n",
    "print(\"Accuracy:\", accuracy_score(y_pred_unbalanced_core, unbalanced_test[\"label\"]))\n",
    "print(\"Precision:\", precision_score(y_pred_unbalanced_core, unbalanced_test[\"label\"]))\n",
    "print(\"Recall:\", recall_score(y_pred_unbalanced_core, unbalanced_test[\"label\"]))"
   ]
  }
 ],
 "metadata": {
  "kernelspec": {
   "display_name": "reg",
   "language": "python",
   "name": "reg"
  },
  "language_info": {
   "codemirror_mode": {
    "name": "ipython",
    "version": 3
   },
   "file_extension": ".py",
   "mimetype": "text/x-python",
   "name": "python",
   "nbconvert_exporter": "python",
   "pygments_lexer": "ipython3",
   "version": "3.9.12"
  }
 },
 "nbformat": 4,
 "nbformat_minor": 5
}
