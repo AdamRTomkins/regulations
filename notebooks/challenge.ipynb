{
 "cells": [
  {
   "cell_type": "markdown",
   "id": "6f9cb545",
   "metadata": {},
   "source": [
    "# RegGenome challenge\n",
    "\n",
    "RegGenome have trained a regulatory / non-regulatory (RNR) classifier based on the language used in the text of documents published by legislative bodies.\n",
    "\n",
    "The classifier has performed very well in development, scoring over 99% accuracy.\n",
    "\n",
    "However, after the model was deployed to production many non-regulatory documents started being misclassified as regulatory. The new publisher web crawlers have been optimised for high recall and the large number of spurious documents is causing high load on downstream systems and analysts.\n",
    "\n",
    "Below is the notebook which builds and tests the model. Please take an hour to consider the following questions:\n",
    "\n",
    "1. Why is the model performing worse in a production setting?\n",
    "2. How could we have predicted this?\n",
    "3. What strategies could we employ to improve the performance? Please consider:\n",
    "    a) Technical / DS strategies\n",
    "    b) Non-technical / organisational strategies\n",
    "\n",
    "Please edit or add to the notebook to demonstrate technical strategies for 2 & 3a. Due to time constraints they do not need to be fully formed but should demonstrate your programming ability and a grasp of the issues involved.\n",
    "\n",
    "**Please spend no more than an hour on this challenge.**\n",
    "\n",
    "We will spend 20-30 minutes of our interview discussing your proposals. Good luck!\n"
   ]
  },
  {
   "cell_type": "markdown",
   "id": "ae31e78a",
   "metadata": {},
   "source": [
    "# Notes\n",
    "## Data Exploration\n",
    "\n",
    "### Examine class balance\n",
    "1. Large class imbalance\n",
    "1.1. Update the data\n",
    "1.2. Synthetic Generation\n",
    "1.3. Change the prediction-function threshold\n",
    "\n",
    "\n",
    "### Examine typical data\n",
    "\n",
    "## AI Best Practices\n",
    "1. No cross validation - > Pure overfitting\n",
    "2. Define your metrics: Accuracy is a bias trap.\n",
    "\n",
    "## NLP\n",
    "1. Real pre-processing.\n",
    "2. Bad featurization\n",
    " -> Top 1000 are mostly meaningless.\n",
    " -> no regularisation\n",
    " -> Numbers\n",
    " -> Punctuation\n",
    " -> bad tokenisation\n",
    " -> No stopword filtering\n",
    "\n",
    "## Representation\n",
    "1. TFIDF over words\n",
    "2. Distributed semantics\n",
    "\n",
    "### Document features\n",
    "-> Pull out titles using heuristics.\n",
    "\n",
    "### External Knoweledge\n",
    "-> Ontology Tagging\n",
    "-> -> Leads to more interesting graph representations\n",
    "\n",
    "## Modelling\n",
    "1. Can we do anaomoly detection?\n",
    "2. Standard Models\n",
    "3. Graph representations\n",
    "4. Distributed Symantics\n",
    "\n",
    "\n",
    "## Evalution\n",
    "1. Accuracy may not be domain specific\n",
    "2. At a minimum look at the confusion matrix.\n",
    "\n",
    "## Programming practice\n",
    "1. looped list look ups are very innefficient, cast as a set as a minimum.\n",
    "2. all of this should be pipelined really for feature generation\n",
    "\n",
    "\n",
    "\n"
   ]
  },
  {
   "cell_type": "code",
   "execution_count": null,
   "id": "c53d2f0a",
   "metadata": {},
   "outputs": [],
   "source": [
    "import sys\n",
    "import nltk\n",
    "import sklearn\n",
    "import pandas as pd\n",
    "import numpy as np\n",
    "from collections import Counter\n",
    "import matplotlib.pyplot as plt\n",
    "\n",
    "from sklearn.model_selection import train_test_split, cross_validate\n",
    "from sklearn.metrics import recall_score\n",
    "from sklearn.pipeline import Pipeline\n",
    "from sklearn.feature_extraction.text import CountVectorizer, TfidfTransformer\n",
    "from sklearn.ensemble import RandomForestClassifier\n",
    "\n",
    "from nltk.tokenize import word_tokenize\n",
    "\n",
    "from tools import print_metrics\n",
    "\n",
    "\n",
    "\n",
    "nltk.download('stopwords')\n",
    "nltk.download('punkt')\n",
    "\n",
    "print('Python: {}'.format(sys.version))\n",
    "print('NLTK: {}'.format(nltk.__version__))\n",
    "print('Scikit-learn: {}'.format(sklearn.__version__))\n",
    "print('Pandas: {}'.format(pd.__version__))\n",
    "print('Numpy: {}'.format(np.__version__))"
   ]
  },
  {
   "cell_type": "code",
   "execution_count": 57,
   "id": "87cf3609",
   "metadata": {},
   "outputs": [],
   "source": [
    "# Load the original dataframe for examiniation\n",
    "original_df = pd.read_table('rnr-examples.csv', sep=\",\", header=0, encoding='utf-8')\n",
    "\n",
    "# Load the extended dataframe for experiments\n",
    "df = pd.read_csv('./data/extended_data.csv')\n",
    "\n",
    "texts = df['text']\n",
    "labels = df['label']"
   ]
  },
  {
   "cell_type": "markdown",
   "id": "629e2e21",
   "metadata": {},
   "source": [
    "# Data Exploration\n",
    "\n",
    "Here we examine the class imbalance, and the feature representation"
   ]
  },
  {
   "cell_type": "code",
   "execution_count": 58,
   "id": "742e7194",
   "metadata": {},
   "outputs": [
    {
     "data": {
      "text/plain": [
       "Text(0.5, 1.0, 'Original Class Imbalance')"
      ]
     },
     "execution_count": 58,
     "metadata": {},
     "output_type": "execute_result"
    },
    {
     "data": {
      "image/png": "[encoded data removed]",
      "text/plain": [
       "<Figure size 432x288 with 1 Axes>"
      ]
     },
     "metadata": {
      "needs_background": "light"
     },
     "output_type": "display_data"
    }
   ],
   "source": [
    "\n",
    "classes = Counter(original_df[\"label\"].to_list())\n",
    "plt.bar(classes.keys(),classes.values())\n",
    "plt.title(\"Original Class Imbalance\")"
   ]
  },
  {
   "cell_type": "code",
   "execution_count": 59,
   "id": "3172ce98",
   "metadata": {},
   "outputs": [
    {
     "data": {
      "text/plain": [
       "Text(0.5, 1.0, 'Augmented Class Imbalance')"
      ]
     },
     "execution_count": 59,
     "metadata": {},
     "output_type": "execute_result"
    },
    {
     "data": {
      "image/png": "[encoded data removed]",
      "text/plain": [
       "<Figure size 432x288 with 1 Axes>"
      ]
     },
     "metadata": {
      "needs_background": "light"
     },
     "output_type": "display_data"
    }
   ],
   "source": [
    "classes = Counter(df[\"label\"].to_list())\n",
    "plt.bar(classes.keys(),classes.values())\n",
    "plt.title(\"Augmented Class Imbalance\")"
   ]
  },
  {
   "cell_type": "code",
   "execution_count": 61,
   "id": "817d0c91",
   "metadata": {},
   "outputs": [
    {
     "name": "stdout",
     "output_type": "stream",
     "text": [
      "Number of words: 151898\n",
      "Most common words: [('the', 230501), ('of', 184134), ('.', 170667), (',', 157027), ('and', 107322), ('to', 102492), (')', 96025), ('(', 91487), ('in', 69894), ('a', 60552), ('or', 45598), ('for', 39553), ('by', 31011), (':', 29829), ('be', 29459)]\n"
     ]
    }
   ],
   "source": [
    "# Create bag of words\n",
    "all_words = []\n",
    "\n",
    "for text in texts:\n",
    "    words = word_tokenize(text)\n",
    "    for word in words:\n",
    "        all_words.append(word)\n",
    "        \n",
    "all_words = nltk.FreqDist(all_words)\n",
    "\n",
    "# Inspect the total number of words and the 15 most common words\n",
    "print('Number of words: {}'.format(len(all_words)))\n",
    "print('Most common words: {}'.format(all_words.most_common(15)))"
   ]
  },
  {
   "cell_type": "code",
   "execution_count": 62,
   "id": "110885f7",
   "metadata": {},
   "outputs": [],
   "source": [
    "# Use the 1,000 most common words as features\n",
    "# This could be a count vectorizer, that would add presence + counts\n",
    "def find_features(text, top_n=1000):\n",
    "    # Move to within feature\n",
    "    word_features = list(all_words.keys())[:top_n]\n",
    "    # This will be very slow, lets at least do a set look up\n",
    "    words = set(word_tokenize(text))\n",
    "    features = {}\n",
    "    for word in word_features:\n",
    "        features[word] = (word in words)\n",
    "    return features"
   ]
  },
  {
   "cell_type": "code",
   "execution_count": null,
   "id": "6e987c5e",
   "metadata": {},
   "outputs": [],
   "source": [
    "# Extract all the features for all the texts\n",
    "texts = list(zip(texts, labels))\n",
    "\n",
    "# define a seed for reproducibility\n",
    "seed = 1\n",
    "np.random.seed = seed\n",
    "np.random.shuffle(texts)\n",
    "\n",
    "# call find_features function for each SMS message\n",
    "# This is an inefficient function, replace with a count-vectorizer\n",
    "feature_sets = [(find_features(text), label) for (text, label) in texts]"
   ]
  },
  {
   "cell_type": "code",
   "execution_count": 9,
   "id": "cdb023b8-a202-4e37-bd6d-692cea31b331",
   "metadata": {},
   "outputs": [
    {
     "name": "stdout",
     "output_type": "stream",
     "text": [
      "This representation creates 328 empty vectors\n"
     ]
    }
   ],
   "source": [
    "# Investigate the richness of these feature sets\n",
    "all_false = [f for f in feature_sets if len(set(f[0].values())) == 1]\n",
    "print(f\"This representation creates {len(all_false)} empty vectors\")"
   ]
  },
  {
   "cell_type": "code",
   "execution_count": null,
   "id": "e661d328-4c09-4b1f-82e7-1b44b2c93923",
   "metadata": {},
   "outputs": [],
   "source": []
  },
  {
   "cell_type": "markdown",
   "id": "e36c9894-be4c-4d5b-a507-2dd6de493fa8",
   "metadata": {},
   "source": [
    "# Benchmark the Given Approach\n",
    "Here we benchmark the given approach, focusing on accuracy, over a single test-train split."
   ]
  },
  {
   "cell_type": "code",
   "execution_count": null,
   "id": "85d7b0dc",
   "metadata": {},
   "outputs": [],
   "source": [
    "# Train Random Forest classifier\n",
    "from nltk.classify.scikitlearn import SklearnClassifier\n",
    "from sklearn.svm import SVC\n",
    "from sklearn.ensemble import RandomForestClassifier\n",
    "\n",
    "# Create a train-test split.\n",
    "train, test = train_test_split(feature_sets)\n",
    "\n",
    "model = SklearnClassifier(RandomForestClassifier())\n",
    "model.train(feature_sets)\n",
    "false_accuracy = nltk.classify.accuracy(model, feature_sets)*100\n",
    "print(\"Classifier Accuracy: {}\".format(false_accuracy))\n",
    "\n",
    "\n",
    "model = SklearnClassifier(RandomForestClassifier())\n",
    "model.train(train)\n",
    "true_accuracy = nltk.classify.accuracy(model, test)*100\n",
    "\n",
    "print(f\"False Accuracy {false_accuracy} \\n True Accuracy {true_accuracy}\")"
   ]
  },
  {
   "cell_type": "markdown",
   "id": "73505551-e461-4fcb-8129-e36127a3e16c",
   "metadata": {},
   "source": [
    "## Cross Fold Validation\n",
    "\n",
    "Here we demonstrate how we can use cross validation to get a better picture of the performance of the type of model"
   ]
  },
  {
   "cell_type": "code",
   "execution_count": null,
   "id": "6acb9093",
   "metadata": {},
   "outputs": [],
   "source": [
    "scoring = ['precision_macro', 'recall_macro','f1_macro','accuracy']\n",
    "\n",
    "\n",
    "clf = Pipeline([\n",
    "     ('vect', CountVectorizer(max_features=1000)),\n",
    "     ('clf',  RandomForestClassifier()),\n",
    "])\n",
    "\n",
    "scores = cross_validate(clf, df[\"text\"],df[\"label\"], scoring=scoring)\n",
    "scores\n",
    "\n"
   ]
  },
  {
   "cell_type": "markdown",
   "id": "d028db0f-b2ec-4137-a245-3e417f463666",
   "metadata": {},
   "source": [
    "# Data Pre-processing\n",
    "\n",
    "Here we use a custom defined Scikit-learn prerpocessor that achieves:\n",
    "\n",
    "1. Removal of punctuation\n",
    "2. Removeal of numerical values\n",
    "3. lowercasing."
   ]
  },
  {
   "cell_type": "code",
   "execution_count": null,
   "id": "f56a577f",
   "metadata": {},
   "outputs": [],
   "source": [
    "# Import a custom preprocessor that can be used in pipelines\n",
    "from tools import Preprocessor"
   ]
  },
  {
   "cell_type": "code",
   "execution_count": null,
   "id": "85869ff2",
   "metadata": {},
   "outputs": [],
   "source": [
    "import nltk\n",
    "from nltk.corpus import stopwords\n",
    "stopwords = set(stopwords.words('english'))"
   ]
  },
  {
   "cell_type": "code",
   "execution_count": null,
   "id": "3f64422b",
   "metadata": {},
   "outputs": [],
   "source": [
    "from sklearn.pipeline import Pipeline\n",
    "from sklearn.feature_extraction.text import CountVectorizer\n",
    "from sklearn.feature_extraction.text import TfidfTransformer\n",
    "from sklearn.naive_bayes import MultinomialNB\n",
    "from sklearn.linear_model import SGDClassifier\n",
    "\n",
    "from sklearn.model_selection import train_test_split\n",
    "test, train = train_test_split(df)\n",
    "\n",
    "text_clf = Pipeline([\n",
    "     ('preprocessor', Preprocessor()),\n",
    "     ('vect', CountVectorizer(stop_words=stopwords)),\n",
    "     ('tfidf', TfidfTransformer()),\n",
    "     ('clf', SGDClassifier(loss='hinge', penalty='l2', alpha=1e-3, random_state=42, max_iter=5, tol=None)),\n",
    "])\n",
    "\n",
    "# Train the new model\n",
    "text_clf.fit(train[\"text\"], train[\"label\"])\n"
   ]
  },
  {
   "cell_type": "code",
   "execution_count": null,
   "id": "0da1b3a9",
   "metadata": {},
   "outputs": [],
   "source": [
    "y_pred = text_clf.predict(test[\"text\"])\n",
    "print_metrics(\"Preprocessed Text\", y_pred, test[\"label\"])\n"
   ]
  },
  {
   "cell_type": "code",
   "execution_count": null,
   "id": "2a34e3bc-7a83-4e22-8f66-8ab6534503b6",
   "metadata": {},
   "outputs": [],
   "source": [
    "scores = cross_validate(clf, df[\"text\"],df[\"label\"], scoring=scoring)\n",
    "scores"
   ]
  }
 ],
 "metadata": {
  "kernelspec": {
   "display_name": "Python 3 (ipykernel)",
   "language": "python",
   "name": "python3"
  },
  "language_info": {
   "codemirror_mode": {
    "name": "ipython",
    "version": 3
   },
   "file_extension": ".py",
   "mimetype": "text/x-python",
   "name": "python",
   "nbconvert_exporter": "python",
   "pygments_lexer": "ipython3",
   "version": "3.8.10"
  }
 },
 "nbformat": 4,
 "nbformat_minor": 5
}
