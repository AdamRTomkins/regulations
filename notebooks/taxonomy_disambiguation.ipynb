{
 "cells": [
  {
   "cell_type": "code",
   "execution_count": 1,
   "id": "3765b754-fffb-4038-a703-b7cbe8b298f3",
   "metadata": {},
   "outputs": [],
   "source": [
    "import pandas as pd\n",
    "lexicon = pd.read_csv(\"../data/acronym_lexicon_partial.csv\")\n",
    "\n",
    "# do a quick filter on the has-tags field\n",
    "lexicon[\"has_tags\"] = [l!='[]' for l in lexicon[\"tags\"]]\n",
    "tagged_lexicon = lexicon[lexicon[\"has_tags\"]]"
   ]
  },
  {
   "cell_type": "code",
   "execution_count": null,
   "id": "a0b4af23-b586-474d-bd5b-54c58b4b7c0e",
   "metadata": {},
   "outputs": [],
   "source": []
  },
  {
   "cell_type": "code",
   "execution_count": 2,
   "id": "63c3aa38-9632-4586-9cfc-a3b44614e6d4",
   "metadata": {},
   "outputs": [],
   "source": [
    "from transformers import pipeline\n",
    "classifier = pipeline(\"zero-shot-classification\",\n",
    "                      model=\"facebook/bart-large-mnli\")"
   ]
  },
  {
   "cell_type": "code",
   "execution_count": 3,
   "id": "ab6270f3-3e4b-45a8-855f-dea996f48a8d",
   "metadata": {},
   "outputs": [
    {
     "name": "stdout",
     "output_type": "stream",
     "text": [
      "129\n"
     ]
    },
    {
     "data": {
      "text/plain": [
       "48"
      ]
     },
     "execution_count": 3,
     "metadata": {},
     "output_type": "execute_result"
    }
   ],
   "source": [
    "print(len(tagged_lexicon))\n",
    "len(set(tagged_lexicon[\"acronym\"].to_list()))"
   ]
  },
  {
   "cell_type": "code",
   "execution_count": 4,
   "id": "a30823e8-5a95-42bd-a0b3-132530ac8448",
   "metadata": {},
   "outputs": [
    {
     "name": "stdout",
     "output_type": "stream",
     "text": [
      "500\n"
     ]
    },
    {
     "data": {
      "text/plain": [
       "61"
      ]
     },
     "execution_count": 4,
     "metadata": {},
     "output_type": "execute_result"
    }
   ],
   "source": [
    "print(len(lexicon))\n",
    "len(set(lexicon[\"acronym\"].to_list()))"
   ]
  },
  {
   "cell_type": "code",
   "execution_count": null,
   "id": "8e7d7c2b-b793-4f7b-8c52-2637b1b7e611",
   "metadata": {},
   "outputs": [],
   "source": []
  },
  {
   "cell_type": "code",
   "execution_count": 12,
   "id": "331ef4b7-bc5a-477f-8051-5e77d1be121b",
   "metadata": {},
   "outputs": [],
   "source": [
    "from typing import List\n",
    "\n",
    "def zeroshot_classify(text:str, candidate_labels:List[str]= ['finance', 'regulation','government institute','bank','policy','guideline','regulatory body','tax','company']):\n",
    "\n",
    "    results = classifier(text, candidate_labels,multi_label=True)\n",
    "    \n",
    "    return {k:v for k,v in zip(results[\"labels\"], results[\"scores\"])}\n",
    "\n",
    "def assign_class(text):\n",
    "    # Do some logic for class assignment\n",
    "    # if finance <0.4: assign it non-financial-entity\n",
    "    \n",
    "    # else\n",
    "    # if max of non financial tags < 0.4:\n",
    "    # assign the class as other-financial entity\n",
    "    # else\n",
    "    # assign it as the maximum\n",
    "    \n",
    "    classification = zeroshot_classify(text)\n",
    "    \n",
    "    if classification[\"finance\"] < 0.4:\n",
    "        output_class = \"Non-Financial Entity\"\n",
    "    else:\n",
    "        del classification[\"finance\"]\n",
    "        \n",
    "        scores = sorted(classification.items(), key=lambda x:x[1], reverse=True)\n",
    "\n",
    "        max_class, max_score = scores[0]\n",
    "    \n",
    "        if max_score <0.5:\n",
    "            output_class = \"Other Financial Entity\"\n",
    "            \n",
    "        else: output_class = max_class\n",
    "        \n",
    "    return output_class, classification\n"
   ]
  },
  {
   "cell_type": "code",
   "execution_count": 13,
   "id": "9aad7957-57da-4d6c-8fdb-4da084609bc1",
   "metadata": {},
   "outputs": [
    {
     "name": "stdout",
     "output_type": "stream",
     "text": [
      "regulatory body\n",
      "{'regulatory body': 0.9633584022521973, 'policy': 0.8513957858085632, 'regulation': 0.5462090373039246, 'bank': 0.3800763785839081, 'guideline': 0.36723998188972473, 'tax': 0.11873148381710052, 'government institute': 0.08829646557569504, 'company': 0.03803764656186104}\n"
     ]
    }
   ],
   "source": [
    "# Example usage\n",
    "#text = tagged_lexicon[\"summary\"].to_list()[0].split(\".\")\n",
    "text = \"Goverment deparment financial\"\n",
    "classification, data = assign_class(text)\n",
    "print(classification)\n",
    "print(data)\n"
   ]
  },
  {
   "cell_type": "code",
   "execution_count": 16,
   "id": "d425df6a-a3b3-4e76-8c24-73ee359cd22f",
   "metadata": {},
   "outputs": [
    {
     "name": "stderr",
     "output_type": "stream",
     "text": [
      "100%|██████████████████████████████████████████████| 129/129 [04:43<00:00,  2.20s/it]\n",
      "/tmp/ipykernel_331094/73937035.py:11: SettingWithCopyWarning: \n",
      "A value is trying to be set on a copy of a slice from a DataFrame.\n",
      "Try using .loc[row_indexer,col_indexer] = value instead\n",
      "\n",
      "See the caveats in the documentation: https://pandas.pydata.org/pandas-docs/stable/user_guide/indexing.html#returning-a-view-versus-a-copy\n",
      "  tagged_lexicon[\"semantic_type\"] = semantic_type\n",
      "/tmp/ipykernel_331094/73937035.py:12: SettingWithCopyWarning: \n",
      "A value is trying to be set on a copy of a slice from a DataFrame.\n",
      "Try using .loc[row_indexer,col_indexer] = value instead\n",
      "\n",
      "See the caveats in the documentation: https://pandas.pydata.org/pandas-docs/stable/user_guide/indexing.html#returning-a-view-versus-a-copy\n",
      "  tagged_lexicon[\"classification_data\"] = classification_data\n"
     ]
    }
   ],
   "source": [
    "from tqdm import tqdm\n",
    "\n",
    "\n",
    "semantic_type = []\n",
    "classification_data = []\n",
    "for summary in tqdm(tagged_lexicon[\"summary\"]):\n",
    "    classification, data = assign_class(summary.split(\".\")[0])\n",
    "    semantic_type.append(classification)\n",
    "    classification_data.append(data)\n",
    "    \n",
    "tagged_lexicon[\"semantic_type\"] = semantic_type\n",
    "tagged_lexicon[\"classification_data\"] = classification_data\n"
   ]
  },
  {
   "cell_type": "code",
   "execution_count": 24,
   "id": "7f3cea7d-9949-4db1-ad5e-316925bfdc34",
   "metadata": {},
   "outputs": [
    {
     "data": {
      "text/plain": [
       "\"The know your customer or know your client (KYC) guidelines in financial services require that professionals make an effort to verify the identity, suitability, and risks involved with maintaining a business relationship. The procedures fit within the broader scope of a bank's anti-money laundering (AML) policy. KYC processes are also employed by companies of all sizes for the purpose of ensuring their proposed customers, agents, consultants, or distributors are anti-bribery compliant, and are actually who they claim to be. Banks, insurers, export creditors, and other financial institutions are increasingly demanding that customers provide detailed due diligence information. Initially, these regulations were imposed only on the financial institutions but now the non-financial industry, fintech, virtual assets dealers, and even non-profit organizations are liable to oblige.\\n\\n\""
      ]
     },
     "execution_count": 24,
     "metadata": {},
     "output_type": "execute_result"
    }
   ],
   "source": [
    "tagged_lexicon[\"summary\"].to_list()[0]"
   ]
  },
  {
   "cell_type": "code",
   "execution_count": 96,
   "id": "17a71153-ea0c-462a-b362-9eafa07720db",
   "metadata": {},
   "outputs": [],
   "source": [
    "# save this lexicon\n",
    "tagged_lexicon.to_csv(\"../data/financial_taxonomy.csv\")"
   ]
  },
  {
   "cell_type": "code",
   "execution_count": 18,
   "id": "287d27d5-cb27-4554-b573-071472c8ae78",
   "metadata": {},
   "outputs": [],
   "source": [
    "for acronym in set(tagged_lexicon[\"acronym\"]):\n",
    "    alex = tagged_lexicon[tagged_lexicon[\"acronym\"]==acronym]"
   ]
  },
  {
   "cell_type": "code",
   "execution_count": 20,
   "id": "d9d87a56-8c66-40e8-a9c0-41e21b98f3fd",
   "metadata": {},
   "outputs": [
    {
     "name": "stdout",
     "output_type": "stream",
     "text": [
      "{'Unnamed: 0': 351, 'acronym': 'CRR', 'summary': 'Monetary policy is the process by which the monetary authority of a country, generally  central bank, controls the supply of money in the economy by its control over interest rates in order to maintain price stability and achieve high economic growth. In India, the central monetary authority is the Reserve Bank of India (RBI).\\nIt is designed to maintain the price stability in the economy. Other objectives of the monetary policy of India, as stated by RBI, are:\\n\\nPrice stability\\nPrice stability implies promoting economic development with considerable emphasis on price stability. The centre of focus is to facilitate the environment which is favourable to the architecture that enables the developmental projects to run swiftly while also maintaining reasonable price stability.Controlled expansion of bank credit\\nOne of the important functions of RBI is the controlled expansion of bank credit and money supply with special attention to seasonal requirement for credit without affecting the output.Promotion of fixed investment\\nThe aim here is to increase the productivity of investment by restraining non essential fixed investment.Restriction of inventories and stocks\\nOverfilling of stocks and products becoming outdated due to excess of stock often results in sickness of the unit. To avoid this problem, the central monetary authority carries out this essential function of restricting the inventories. The main objective of this policy is to avoid over-stocking and idle money in the organisation.Promoting efficiency\\nIt tries to increase the efficiency in the financial system and tries to incorporate structural changes such as deregulating interest rates, easing operational constraints in the credit delivery system, introducing new money market instruments, etc.Reducing rigidity\\nRBI tries to bring about flexibilities in operations which provide a considerable autonomy. It encourages more competitive environment and diversification. It maintains its control over financial system whenever and wherever necessary to maintain the discipline and prudence in operations of the financial system.\\n\\n', 'tags': \"[{'match': 'bank', 'norm': 'bank', 'case': 'lower', 'exact': True, 'start': 96, 'end': 100}, {'match': 'money', 'norm': 'money', 'case': 'lower', 'exact': True, 'start': 125, 'end': 130}, {'match': 'bank', 'norm': 'bank', 'case': 'lower', 'exact': True, 'start': 806, 'end': 810}, {'match': 'bank', 'norm': 'bank', 'case': 'lower', 'exact': True, 'start': 887, 'end': 891}, {'match': 'money', 'norm': 'money', 'case': 'lower', 'exact': True, 'start': 903, 'end': 908}, {'match': 'money', 'norm': 'money', 'case': 'lower', 'exact': True, 'start': 1482, 'end': 1487}, {'match': 'financial', 'norm': 'financial', 'case': 'lower', 'exact': True, 'start': 1572, 'end': 1581}, {'match': 'money', 'norm': 'money', 'case': 'lower', 'exact': True, 'start': 1748, 'end': 1753}, {'match': 'financial', 'norm': 'financial', 'case': 'lower', 'exact': True, 'start': 1982, 'end': 1991}, {'match': 'financial', 'norm': 'financial', 'case': 'lower', 'exact': True, 'start': 2092, 'end': 2101}]\", 'has_tags': True, 'semantic_type': 'policy', 'classification_data': {'policy': 0.9626301527023315, 'bank': 0.7115756273269653, 'company': 0.21353764832019806, 'guideline': 0.20039691030979156, 'regulatory body': 0.05489270016551018, 'government institute': 0.022990716621279716, 'regulation': 0.0004032284487038851, 'tax': 0.0003404138842597604}}\n",
      "{'Unnamed: 0': 354, 'acronym': 'CRR', 'summary': \"The Reserve Bank of India, chiefly known as RBI, is India's central bank and regulatory body responsible for regulation of the Indian banking system. It is under the ownership of Ministry of Finance, Government of India. It is responsible for the issue and supply of the Indian rupee. It also manages the country's main payment systems and works to promote its economic development. Bharatiya Reserve Bank Note Mudran is one of the specialised divisions of RBI through which it prints & mints Indian bank notes and coins. RBI established the National Payments Corporation of India as one of its specialised division to regulate the payment and settlement systems in India. Deposit Insurance and Credit Guarantee Corporation was established by RBI as one of its specialised division for the purpose of providing insurance of deposits and guaranteeing of credit facilities to all Indian banks.\\nUntil the Monetary Policy Committee was established in 2016, it also had full control over monetary policy in the country. It commenced its operations on 1 April 1935 in accordance with the Reserve Bank of India Act, 1934. The original share capital was divided into shares of 100 each fully paid. Following India's independence on 15 August 1947, the RBI was nationalised on 1 January 1949.The overall direction of the RBI lies with the 21-member central board of directors, composed of: the governor; four deputy governors; two finance ministry representatives (usually the Economic Affairs Secretary and the Financial Services Secretary); ten government-nominated directors; and four directors who represent local boards for Mumbai, Kolkata, Chennai, and Delhi. Each of these local boards consists of five members who represent regional interests and the interests of co-operative and indigenous banks.\\nIt is a member bank of the Asian Clearing Union. The bank is also active in promoting financial inclusion policy and is a leading member of the Alliance for Financial Inclusion (AFI). The bank is often referred to by the name 'Mint Street'.On 12 November 2021, the Prime Minister of India, Narendra Modi, launched two new schemes which aim at expanding investments and ensuring more security for investors. The two new schemes include the RBI Retail Direct Scheme and the Reserve Bank Integrated Ombudsman Scheme. The RBI Retail Direct Scheme is targeted at retail investors to invest easily in government securities. According to RBI, the scheme will allow retail investors to open and maintain their government securities account free of cost. The RBI Integrated Ombudsman Scheme aims to further improve the grievance redress mechanism for resolving customer complaints against entities regulated by the central bank. The RBI makes it mandatory for all the banks in India to have a safe box in their own respect strong room. However, exception is given to the Regional Banks and the SBI branches located in the rural areas but a strong room is compulsory.\", 'tags': \"[{'match': 'bank', 'norm': 'bank', 'case': 'lower', 'exact': True, 'start': 68, 'end': 72}, {'match': 'bank', 'norm': 'bank', 'case': 'lower', 'exact': True, 'start': 500, 'end': 504}, {'match': 'board', 'norm': 'board', 'case': 'lower', 'exact': True, 'start': 1348, 'end': 1353}, {'match': 'finance', 'norm': 'finance', 'case': 'lower', 'exact': True, 'start': 1422, 'end': 1429}, {'match': 'bank', 'norm': 'bank', 'case': 'lower', 'exact': True, 'start': 1813, 'end': 1817}, {'match': 'bank', 'norm': 'bank', 'case': 'lower', 'exact': True, 'start': 1851, 'end': 1855}, {'match': 'financial', 'norm': 'financial', 'case': 'lower', 'exact': True, 'start': 1884, 'end': 1893}, {'match': 'bank', 'norm': 'bank', 'case': 'lower', 'exact': True, 'start': 1986, 'end': 1990}, {'match': 'securities', 'norm': 'securities', 'case': 'lower', 'exact': True, 'start': 2404, 'end': 2414}, {'match': 'securities', 'norm': 'securities', 'case': 'lower', 'exact': True, 'start': 2511, 'end': 2521}, {'match': 'bank', 'norm': 'bank', 'case': 'lower', 'exact': True, 'start': 2712, 'end': 2716}]\", 'has_tags': True, 'semantic_type': 'regulatory body', 'classification_data': {'regulatory body': 0.9934461116790771, 'regulation': 0.9741932153701782, 'bank': 0.9213170409202576, 'policy': 0.5377710461616516, 'guideline': 0.305085152387619, 'government institute': 0.028863318264484406, 'company': 0.02322765812277794, 'tax': 0.003422185778617859}}\n",
      "{'Unnamed: 0': 355, 'acronym': 'CRR', 'summary': 'In finance, the binomial options pricing model (BOPM) provides a generalizable numerical method for the valuation of options. Essentially, the model uses a \"discrete-time\" (lattice based) model of the varying price over time of the underlying financial instrument, addressing cases where the closed-form Black–Scholes formula is wanting.\\nThe binomial model was first proposed by William Sharpe in the 1978 edition of Investments (ISBN 013504605X), and formalized by Cox, Ross and Rubinstein in 1979 and by Rendleman and Bartter in that same year.For binomial trees as applied to fixed income and interest rate derivatives see Lattice model (finance)  § Interest rate derivatives.  \\n\\n', 'tags': \"[{'match': 'finance', 'norm': 'finance', 'case': 'lower', 'exact': True, 'start': 3, 'end': 10}, {'match': 'financial', 'norm': 'financial', 'case': 'lower', 'exact': True, 'start': 243, 'end': 252}, {'match': 'finance', 'norm': 'finance', 'case': 'lower', 'exact': True, 'start': 641, 'end': 648}]\", 'has_tags': True, 'semantic_type': 'Other Financial Entity', 'classification_data': {'bank': 0.1147809624671936, 'company': 0.11451703310012817, 'guideline': 0.07344985008239746, 'regulatory body': 0.0036703518126159906, 'tax': 0.001738833379931748, 'regulation': 0.0007670962950214744, 'government institute': 0.0006229152786545455, 'policy': 0.00029953187913633883}}\n"
     ]
    }
   ],
   "source": [
    "for record in alex.to_dict('records'):\n",
    "    print(record)"
   ]
  }
 ],
 "metadata": {
  "kernelspec": {
   "display_name": "reg",
   "language": "python",
   "name": "reg"
  },
  "language_info": {
   "codemirror_mode": {
    "name": "ipython",
    "version": 3
   },
   "file_extension": ".py",
   "mimetype": "text/x-python",
   "name": "python",
   "nbconvert_exporter": "python",
   "pygments_lexer": "ipython3",
   "version": "3.9.12"
  }
 },
 "nbformat": 4,
 "nbformat_minor": 5
}
