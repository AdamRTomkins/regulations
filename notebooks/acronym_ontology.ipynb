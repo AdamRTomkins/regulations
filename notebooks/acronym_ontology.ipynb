{
 "cells": [
  {
   "cell_type": "code",
   "execution_count": 1,
   "metadata": {},
   "outputs": [
    {
     "name": "stderr",
     "output_type": "stream",
     "text": [
      "[nltk_data] Downloading package stopwords to /home/adam/nltk_data...\n",
      "[nltk_data]   Package stopwords is already up-to-date!\n",
      "[nltk_data] Downloading package punkt to /home/adam/nltk_data...\n",
      "[nltk_data]   Package punkt is already up-to-date!\n"
     ]
    },
    {
     "ename": "NameError",
     "evalue": "name 'TextSearch' is not defined",
     "output_type": "error",
     "traceback": [
      "\u001b[0;31m---------------------------------------------------------------------------\u001b[0m",
      "\u001b[0;31mNameError\u001b[0m                                 Traceback (most recent call last)",
      "Input \u001b[0;32mIn [1]\u001b[0m, in \u001b[0;36m<cell line: 28>\u001b[0;34m()\u001b[0m\n\u001b[1;32m     25\u001b[0m acronym_wiki \u001b[38;5;241m=\u001b[39m []\n\u001b[1;32m     27\u001b[0m kws \u001b[38;5;241m=\u001b[39m [\u001b[38;5;124m\"\u001b[39m\u001b[38;5;124mbank\u001b[39m\u001b[38;5;124m\"\u001b[39m, \u001b[38;5;124m\"\u001b[39m\u001b[38;5;124mregulat\u001b[39m\u001b[38;5;124m\"\u001b[39m, \u001b[38;5;124m\"\u001b[39m\u001b[38;5;124mfinancial\u001b[39m\u001b[38;5;124m\"\u001b[39m,  \u001b[38;5;124m\"\u001b[39m\u001b[38;5;124msecurities\u001b[39m\u001b[38;5;124m\"\u001b[39m, \u001b[38;5;124m\"\u001b[39m\u001b[38;5;124mdirective\u001b[39m\u001b[38;5;124m\"\u001b[39m,  \u001b[38;5;124m\"\u001b[39m\u001b[38;5;124mfund\u001b[39m\u001b[38;5;124m\"\u001b[39m, \u001b[38;5;124m\"\u001b[39m\u001b[38;5;124mboard\u001b[39m\u001b[38;5;124m\"\u001b[39m, \u001b[38;5;124m\"\u001b[39m\u001b[38;5;124mstandard\u001b[39m\u001b[38;5;124m\"\u001b[39m,\u001b[38;5;124m\"\u001b[39m\u001b[38;5;124mmoney\u001b[39m\u001b[38;5;124m\"\u001b[39m,\u001b[38;5;124m\"\u001b[39m\u001b[38;5;124mfinance\u001b[39m\u001b[38;5;124m\"\u001b[39m]\n\u001b[0;32m---> 28\u001b[0m tagger \u001b[38;5;241m=\u001b[39m \u001b[43mTextSearch\u001b[49m(\u001b[38;5;124m\"\u001b[39m\u001b[38;5;124msensitive\u001b[39m\u001b[38;5;124m\"\u001b[39m, \u001b[38;5;28mdict\u001b[39m)\n\u001b[1;32m     29\u001b[0m \u001b[38;5;28;01mfor\u001b[39;00m k \u001b[38;5;129;01min\u001b[39;00m kws:\n\u001b[1;32m     30\u001b[0m     ts\u001b[38;5;241m.\u001b[39madd(k)\n",
      "\u001b[0;31mNameError\u001b[0m: name 'TextSearch' is not defined"
     ]
    }
   ],
   "source": [
    "import sys\n",
    "import nltk\n",
    "import sklearn\n",
    "import pandas as pd\n",
    "import numpy as np\n",
    "import xgboost as xgb\n",
    "from tools import extract_acronyms, preprocess\n",
    "from tqdm import tqdm\n",
    "import wikipedia\n",
    "from textsearch import TextSearch\n",
    "\n",
    "nltk.download('stopwords')\n",
    "nltk.download('punkt')\n",
    "\n",
    "df = pd.read_table('rnr-examples.csv', sep=\",\", header=0, encoding='utf-8')\n",
    "\n",
    "X = df[\"text\"]\n",
    "y = df[\"label\"]\n",
    "\n",
    "# Extract the Top Acronyms across all the Documents\n",
    "# Truncated for Time\n",
    "acronyms = extract_acronyms(\" \".join(X))\n",
    "top_acronyms = sorted(acronyms.items(), key = lambda x:x[1], reverse=True)[:200]\n",
    "\n",
    "# Get Definitions for some of the most widely used Acronyms\n",
    "acronym_wiki = []\n",
    "\n",
    "kws = [\"bank\", \"regulat\", \"financial\",  \"securities\", \"directive\",  \"fund\", \"board\", \"standard\",\"money\",\"finance\"]\n",
    "tagger = TextSearch(\"sensitive\", dict)\n",
    "for k in kws:\n",
    "    ts.add(k)\n",
    "\n",
    "for acronym, _ in tqdm(top_acronyms):\n",
    "    print(acronym)\n",
    "\n",
    "    pages = wikipedia.search(acronym)\n",
    "    # Pull in several pages worth, and attempt to find a good match\n",
    "    for page in pages:\n",
    "        try:\n",
    "            summary = wikipedia.page(page).summary\n",
    "            \n",
    "            tags = ts.findall(summary)\n",
    "\n",
    "            acronym_wiki.append({\n",
    "                \"acronym\":acronym,\n",
    "                \"summary\":summary,\n",
    "                \"tags\":tags\n",
    "            })\n",
    "\n",
    "            if len(tags) > 0:\n",
    "                break\n",
    "        except:\n",
    "            pass\n",
    "\n",
    "    lexicon = pd.DataFrame(acronym_wiki)\n",
    "    lexicon.to_csv(\"./data/acronym_lexicon.csv\")            "
   ]
  },
  {
   "cell_type": "code",
   "execution_count": 5,
   "metadata": {},
   "outputs": [],
   "source": []
  },
  {
   "cell_type": "code",
   "execution_count": 8,
   "metadata": {},
   "outputs": [],
   "source": []
  },
  {
   "cell_type": "code",
   "execution_count": null,
   "metadata": {},
   "outputs": [],
   "source": [
    "# Get Definitions for some of the most widely used Acronyms\n",
    "acronym_wiki = []\n",
    "\n",
    "for acronym, _ in tqdm(top_acronyms):\n",
    "    print(acronym)\n",
    "\n",
    "    pages = wikipedia.search(acronym)\n",
    "    # Pull in several pages\n",
    "    for page in pages[:2]:\n",
    "        try:\n",
    "            summary = wikipedia.page(page).summary\n",
    "\n",
    "            acronym_wiki.append({\n",
    "                \"acronym\":acronym,\n",
    "                \"summary\":summary,\n",
    "            })\n",
    "\n",
    "        except:\n",
    "            pass\n",
    "        \n",
    "    lexicon = pd.DataFrame(acronym_wiki)\n",
    "    lexicon.to_csv(\"./data/acronym_lexicon.csv\")            "
   ]
  },
  {
   "cell_type": "code",
   "execution_count": 58,
   "metadata": {},
   "outputs": [
    {
     "data": {
      "text/plain": [
       "{'acronym': 'DIFC',\n",
       " 'summary': \"The DIFC Courts are an independent English language common law judiciary, based in the Dubai International Financial Centre (DIFC) with jurisdiction governing civil and commercial disputes nationally, regionally and worldwide. The Courts began operations in 2006.\\nOriginally, the jurisdiction of the DIFC Courts was limited to the geographical area of the DIFC. On 31 October 2011, the signing of Dubai Law No 16. allowed the DIFC Courts to hear any local or international cases and to resolve commercial disputes with the consent of all parties.\\nThe DIFC Courts are part of the sovereign structure of the Emirate of Dubai, within the UAE. Specifically, Dubai Law No.12 of 2004  ('Dubai Law No.12') is the governing statute which originally established the DIFC Judicial Authority (including the two DIFC Courts, the Court of First Instance and the Court of Appeal).\"}"
      ]
     },
     "execution_count": 58,
     "metadata": {},
     "output_type": "execute_result"
    }
   ],
   "source": [
    "acronym_wiki[43]"
   ]
  },
  {
   "cell_type": "code",
   "execution_count": 87,
   "metadata": {},
   "outputs": [],
   "source": [
    "lexicon = pd.DataFrame(acronym_wiki)\n",
    "lexicon.to_csv(\"./data/acronym_lexicon.csv\")"
   ]
  },
  {
   "cell_type": "code",
   "execution_count": 74,
   "metadata": {},
   "outputs": [],
   "source": [
    "kws = [\"bank\", \"regulat\", \"financial\",  \"securities\", \"directive\",  \"funds\", \"board\", \"standard\", \"centre\", \"organisation\"]\n"
   ]
  },
  {
   "cell_type": "code",
   "execution_count": 75,
   "metadata": {},
   "outputs": [],
   "source": [
    "from textsearch import TextSearch\n",
    "\n",
    "# Tag the data with a subset of relavent keywords.\n",
    "# These keywords could by better pulled from positive-labeled documents.\n",
    "\n",
    "ts = TextSearch(\"sensitive\", dict)\n",
    "for k in kws:\n",
    "    ts.add(k)\n",
    "\n",
    "for acronym_set in acronym_wiki:\n",
    "    acronym_set[\"tags\"] = ts.findall(acronym_set[\"summary\"])\n",
    "    \n"
   ]
  },
  {
   "cell_type": "code",
   "execution_count": 85,
   "metadata": {},
   "outputs": [
    {
     "name": "stdout",
     "output_type": "stream",
     "text": [
      "54\n"
     ]
    }
   ],
   "source": [
    "# Filter the acronyms, based on if there are financial keywords in the summary\n",
    "# This would be much better tackled with a transformer for zeroshot classifiction for disambiguation.\n",
    "filtered_acronym_wiki = [\n",
    "    a for a in acronym_wiki if len(a[\"tags\"]) >0 \n",
    "]\n",
    "print(len(filtered_acronym_wiki))\n",
    "\n",
    "# Print the Acronym, and its summary sentence.\n",
    "for a in filtered_acronym_wiki:\n",
    "    print(a[\"acronym\"], a[\"summary\"].split(\".\")[0])"
   ]
  },
  {
   "cell_type": "code",
   "execution_count": 84,
   "metadata": {
    "tags": []
   },
   "outputs": [
    {
     "name": "stdout",
     "output_type": "stream",
     "text": [
      "SFC The Galway county football team represents Galway in men's Gaelic football and is governed by Galway GAA, the county board of the Gaelic Athletic Association\n",
      "FATF The Financial Action Task Force (on Money Laundering) (FATF), also known by its French name, Groupe d'action financière (GAFI), is an intergovernmental organisation founded in 1989 on the initiative of the G7 to develop policies to combat money laundering\n",
      "FATF The Financial Action Task Force blacklist (often abbreviated to FATF blacklist, and officially known as the \"Call for action\"), is a blacklist maintained by the Financial Action Task Force\n",
      "ASIC An application-specific integrated circuit (ASIC ) is an integrated circuit (IC) chip customized for a particular use, rather than intended for general-purpose use\n",
      "ECB The European Central Bank (ECB) is the prime component of the Eurosystem and the European System of Central Banks (ESCB) as well as one of seven institutions of the European Union\n",
      "QFC The Qatar Financial Centre (‘QFC’) is an onshore business and financial centre located in Doha, Qatar, providing legal and regulatory services for local and international companies\n",
      "APRA APRA AMCOS consists of Australasian Performing Right Association (APRA) and Australasian Mechanical Copyright Owners Society (AMCOS), both copyright management organisations or copyright collectives which jointly represent over 100,000 songwriters, composers and music publishers in Australia and New Zealand\n",
      "SEBI The Securities and Exchange Board of India (SEBI) is the regulatory body for securities and commodity market in India under the ownership of Ministry of Finance ,  Government of India\n",
      "IOSCO The International Organization of Securities Commissions (IOSCO) is an association of organizations that regulate the world's securities and futures markets\n",
      "IOSCO The International Organization of Securities Commissions (IOSCO) is an association of organizations that regulate the world's securities and futures markets\n",
      "CFR Fotbal Club CFR 1907 Cluj, commonly known as CFR Cluj (Romanian pronunciation: [t͡ʃefeˌre ˈkluʒ] or [ˌt͡ʃefere ˈkluʒ]), is a Romanian professional football club based in the city of Cluj-Napoca, Cluj County, which competes in the Liga I\n",
      "AIFC Audio Interchange File Format (AIFF) is an audio file format standard used for storing sound data for personal computers and other electronic audio devices\n",
      "AIFC The Astana International Financial Centre (AIFC) is a financial hub in Nur-Sultan (formerly Astana), Kazakhstan that officially launched on July 5, 2018\n",
      "CBN ABS-CBN (an initialism of its two predecessors' names, Alto Broadcasting System and Chronicle Broadcasting Network) is a Philippine commercial broadcast network (composed of television through free-to-air terrestrial, cable or satellite, radio and new media through streaming media, internet or online) and syndication, program distributor, and production company (operating primarily under the name ABS-CBN Entertainment) that serves as the flagship property of ABS-CBN Corporation, a company under the Lopez Group\n",
      "EUR The EUR-pallet, also known as Euro-pallet or EPAL-pallet, is the standard European pallet as specified by the European Pallet Association (EPAL)\n",
      "UCITS The Undertakings for Collective Investment in Transferable Securities Directive (UCITS) 2009/65/EC is a consolidated EU directive that allows collective investment schemes to operate freely throughout the EU on the basis of a single authorisation from one member state\n",
      "UCITS This is a list of notable Hong Kong exchange-traded funds, or ETFs\n",
      "USD The United States dollar (symbol: $; code: USD; also abbreviated US$ or U\n",
      "IFRS International Financial Reporting Standards, commonly called IFRS, are accounting standards issued by the IFRS Foundation and the International Accounting Standards Board (IASB)\n",
      "IFRS IFRS 16 is an International Financial Reporting Standard (IFRS) promulgated by the International Accounting Standards Board (IASB) providing guidance on accounting for leases\n",
      "DIFC The Dubai International Financial Centre (DIFC) is a special economic zone in Dubai covering 110 ha (272 acres), established in 2004 and a financial hub for the Middle East, Africa and South Asia (MEASA) markets\n",
      "LLC A limited liability company (LLC) is the US-specific form of a private limited company\n",
      "KYC The know your customer or know your client (KYC) guidelines in financial services require that professionals make an effort to verify the identity, suitability, and risks involved with maintaining a business relationship\n",
      "KYC The know your customer or know your client (KYC) guidelines in financial services require that professionals make an effort to verify the identity, suitability, and risks involved with maintaining a business relationship\n",
      "MFDA The Mutual Fund Dealers Association of Canada (MFDA) is a Canadian self-regulatory organization (SRO) that provides oversight to dealers that distribute mutual funds and exempt fixed income products\n",
      "MFDA World Financial Group (WFG) is a multi-level marketing financial and insurance services company based in Johns Creek, Georgia, a suburb of Atlanta, which sells investment, insurance, and various other financial products through a network of distributors in the United States, Canada, and Puerto Rico\n",
      "BSA The Boy Scouts of America (BSA, colloquially the Boy Scouts) is one of the largest scouting organizations and one of the largest youth organizations in the United States, with about 1\n",
      "CFTC The Commodity Futures Trading Commission (CFTC) is an independent agency of the US government created in 1974, that regulates the U\n",
      "CFTC The Commodity Futures Trading Commission (CFTC) is an independent agency of the US government created in 1974, that regulates the U\n",
      "PTY A proprietary company,  the characteristic of which is abbreviated as \"Pty\", is a form of privately held company in Australia and South Africa that is either limited or unlimited\n",
      "FMI The Functional Mock-up Interface (or FMI) defines a standardized interface to be used in computer simulations to develop complex cyber-physical systems\n",
      "CSSF The Commission de Surveillance du Secteur Financier (CSSF) is responsible for the financial regulation in Luxembourg\n",
      "HKMA The Hong Kong Monetary Authority (HKMA) is Hong Kong's central banking institution\n",
      "EUMETSAT The European Organization for the Exploitation of Meteorological Satellites (EUMETSAT) is an intergovernmental organisation created through an international convention agreed by a current total of 30 European Member States\n",
      "BNM The Central Bank of Malaysia (BNM; Malay: Bank Negara Malaysia) is the Malaysian central bank\n",
      "DNFBP Money laundering is the process of concealing the origin of money, often obtained from illicit activities such as drug trafficking, corruption, embezzlement or gambling, by converting it into a legitimate source\n",
      "CPO A chief executive officer (CEO), also known as a central executive officer (CEO), chief administrator officer (CAO), or just chief executive (CE), is one of a number of corporate executives charged with the management of an organization –  especially an independent legal entity such as a company or nonprofit institution\n",
      "AIFMD Directive 2011/61/EU is a legal act of the European Union on the financial regulation of hedge funds, private equity, real estate funds, and other \"Alternative Investment Fund Managers\" (AIFMs) in the European Union\n",
      "AIFMD A hedge fund is a pooled investment fund that trades in relatively liquid assets and is able to make extensive use of more complex trading, portfolio-construction, and risk management techniques in an attempt to improve performance, such as short selling, leverage, and derivatives\n",
      "GFSC Moneycorp is an international payments fintech that provides payment products and services\n",
      "LIBOR The London Inter-Bank Offered Rate is an interest-rate average calculated from estimates submitted by the leading banks in London\n",
      "LIBOR The Libor scandal was a series of fraudulent actions connected to the Libor (London Inter-bank Offered Rate) and also the resulting investigation and reaction\n",
      "FINRA The Financial Industry Regulatory Authority (FINRA) is a private American corporation that acts as a self-regulatory organization (SRO) that regulates member brokerage firms and exchange markets\n",
      "FINRA In the United States, the Series 7 exam, also known as the General Securities Representative Exam (GSRE), is a test for entry-level registered representatives, to buy or sell security products such as corporate securities, municipal securities, options, direct participation programs, investment company products and variable contracts\n",
      "CET Central European Time (CET) is a standard time which is 1 hour ahead of Coordinated Universal Time (UTC)\n",
      "OECD The OECD Better Life Index, created in May 2011 by the Organisation for Economic Co-operation and Development, is an initiative pioneering the development of economic indicators which better capture multiple dimensions of economic and social progress\n",
      "ESA The European Space Agency (ESA; French: Agence spatiale européenne pronunciation , ASE; German: Europäische Weltraumorganisation) is an intergovernmental organisation of 22 member states dedicated to the exploration of space\n",
      "PSD The Social Democratic Party (Portuguese: Partido Social Democrata, pronounced [pɐɾˈtiðu susiˈaɫ dɨmuˈkɾatɐ]; PSD) is a liberal-conservative political party in Portugal\n",
      "AIFM Directive 2011/61/EU is a legal act of the European Union on the financial regulation of hedge funds, private equity, real estate funds, and other \"Alternative Investment Fund Managers\" (AIFMs) in the European Union\n",
      "AIFM A specialized investment fund or SIF is a lightly regulated and tax-efficient regulatory regime in Luxembourg aimed for a broader range of eligible investors\n",
      "CFPB The Consumer Financial Protection Bureau (CFPB) is an agency of the United States government responsible for consumer protection in the financial sector\n",
      "CFPB Rohit Chopra (born January 30, 1982) is an American consumer advocate who is the 3rd director of the Consumer Financial Protection Bureau and previous member of the Federal Trade Commission (FTC)\n",
      "IASB The International Accounting Standards Board (IASB) is the independent accounting standard-setting body of the IFRS Foundation\n",
      "IASB International Financial Reporting Standards, commonly called IFRS, are accounting standards issued by the IFRS Foundation and the International Accounting Standards Board (IASB)\n"
     ]
    }
   ],
   "source": []
  },
  {
   "cell_type": "code",
   "execution_count": null,
   "metadata": {},
   "outputs": [],
   "source": []
  }
 ],
 "metadata": {
  "kernelspec": {
   "display_name": "reg",
   "language": "python",
   "name": "reg"
  },
  "language_info": {
   "codemirror_mode": {
    "name": "ipython",
    "version": 3
   },
   "file_extension": ".py",
   "mimetype": "text/x-python",
   "name": "python",
   "nbconvert_exporter": "python",
   "pygments_lexer": "ipython3",
   "version": "3.9.12"
  }
 },
 "nbformat": 4,
 "nbformat_minor": 4
}
